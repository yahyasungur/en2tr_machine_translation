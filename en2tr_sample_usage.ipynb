{
  "nbformat": 4,
  "nbformat_minor": 0,
  "metadata": {
    "colab": {
      "name": "en2tr_sample_usage.ipynb",
      "provenance": [],
      "collapsed_sections": [],
      "authorship_tag": "ABX9TyN3wm10dDfgDQqtJRqZe98G",
      "include_colab_link": true
    },
    "kernelspec": {
      "name": "python3",
      "display_name": "Python 3"
    },
    "language_info": {
      "name": "python"
    }
  },
  "cells": [
    {
      "cell_type": "markdown",
      "metadata": {
        "id": "view-in-github",
        "colab_type": "text"
      },
      "source": [
        "<a href=\"https://colab.research.google.com/github/yahyasungur/en2tr_tr2en_machine_translation/blob/master/en2tr_sample_usage.ipynb\" target=\"_parent\"><img src=\"https://colab.research.google.com/assets/colab-badge.svg\" alt=\"Open In Colab\"/></a>"
      ]
    },
    {
      "cell_type": "code",
      "metadata": {
        "id": "G9Cz0fwKOlyz"
      },
      "source": [
        "!pip install -q -U tensorflow==1.14 tensor2tensor==1.13.4"
      ],
      "execution_count": 1,
      "outputs": []
    },
    {
      "cell_type": "code",
      "metadata": {
        "colab": {
          "base_uri": "https://localhost:8080/"
        },
        "id": "DEJ3632H4n4h",
        "outputId": "5857e3de-4f76-443a-881e-4a8f05633a46"
      },
      "source": [
        "!pip install tensorflow_datasets==3.2.1"
      ],
      "execution_count": 4,
      "outputs": [
        {
          "output_type": "stream",
          "name": "stdout",
          "text": [
            "Requirement already satisfied: tensorflow_datasets==3.2.1 in /usr/local/lib/python3.7/dist-packages (3.2.1)\n",
            "Requirement already satisfied: future in /usr/local/lib/python3.7/dist-packages (from tensorflow_datasets==3.2.1) (0.16.0)\n",
            "Requirement already satisfied: wrapt in /usr/local/lib/python3.7/dist-packages (from tensorflow_datasets==3.2.1) (1.12.1)\n",
            "Requirement already satisfied: absl-py in /usr/local/lib/python3.7/dist-packages (from tensorflow_datasets==3.2.1) (0.12.0)\n",
            "Requirement already satisfied: protobuf>=3.6.1 in /usr/local/lib/python3.7/dist-packages (from tensorflow_datasets==3.2.1) (3.17.3)\n",
            "Requirement already satisfied: tqdm in /usr/local/lib/python3.7/dist-packages (from tensorflow_datasets==3.2.1) (4.62.3)\n",
            "Requirement already satisfied: tensorflow-metadata in /usr/local/lib/python3.7/dist-packages (from tensorflow_datasets==3.2.1) (1.2.0)\n",
            "Requirement already satisfied: dill in /usr/local/lib/python3.7/dist-packages (from tensorflow_datasets==3.2.1) (0.3.4)\n",
            "Requirement already satisfied: termcolor in /usr/local/lib/python3.7/dist-packages (from tensorflow_datasets==3.2.1) (1.1.0)\n",
            "Requirement already satisfied: six in /usr/local/lib/python3.7/dist-packages (from tensorflow_datasets==3.2.1) (1.15.0)\n",
            "Requirement already satisfied: numpy in /usr/local/lib/python3.7/dist-packages (from tensorflow_datasets==3.2.1) (1.19.5)\n",
            "Requirement already satisfied: attrs>=18.1.0 in /usr/local/lib/python3.7/dist-packages (from tensorflow_datasets==3.2.1) (21.2.0)\n",
            "Requirement already satisfied: promise in /usr/local/lib/python3.7/dist-packages (from tensorflow_datasets==3.2.1) (2.3)\n",
            "Requirement already satisfied: requests>=2.19.0 in /usr/local/lib/python3.7/dist-packages (from tensorflow_datasets==3.2.1) (2.23.0)\n",
            "Requirement already satisfied: idna<3,>=2.5 in /usr/local/lib/python3.7/dist-packages (from requests>=2.19.0->tensorflow_datasets==3.2.1) (2.10)\n",
            "Requirement already satisfied: urllib3!=1.25.0,!=1.25.1,<1.26,>=1.21.1 in /usr/local/lib/python3.7/dist-packages (from requests>=2.19.0->tensorflow_datasets==3.2.1) (1.24.3)\n",
            "Requirement already satisfied: chardet<4,>=3.0.2 in /usr/local/lib/python3.7/dist-packages (from requests>=2.19.0->tensorflow_datasets==3.2.1) (3.0.4)\n",
            "Requirement already satisfied: certifi>=2017.4.17 in /usr/local/lib/python3.7/dist-packages (from requests>=2.19.0->tensorflow_datasets==3.2.1) (2021.5.30)\n",
            "Requirement already satisfied: googleapis-common-protos<2,>=1.52.0 in /usr/local/lib/python3.7/dist-packages (from tensorflow-metadata->tensorflow_datasets==3.2.1) (1.53.0)\n"
          ]
        }
      ]
    },
    {
      "cell_type": "code",
      "metadata": {
        "id": "2phoCGIWOC7e"
      },
      "source": [
        "import os\n",
        "\n",
        "import tensorflow as tf\n",
        "tf.logging.set_verbosity(tf.logging.ERROR)\n",
        "tfe = tf.contrib.eager\n",
        "tfe.enable_eager_execution() \n",
        "\n",
        "import numpy as np\n",
        "from tensor2tensor import problems\n",
        "from tensor2tensor import models\n",
        "from tensor2tensor import problems\n",
        "from tensor2tensor.utils import trainer_lib\n",
        "from tensor2tensor.data_generators import text_encoder\n",
        "\n",
        "from tensor2tensor.utils import t2t_model\n",
        "from tensor2tensor.utils import registry\n",
        "\n",
        "import textwrap"
      ],
      "execution_count": 5,
      "outputs": []
    },
    {
      "cell_type": "code",
      "metadata": {
        "id": "jd_i01CIO3Wq"
      },
      "source": [
        "!test -d nmt-en-tr || git clone https://github.com/yahyasungur/en2tr_tr2en_machine_translation.git"
      ],
      "execution_count": 6,
      "outputs": []
    },
    {
      "cell_type": "code",
      "metadata": {
        "id": "j5RPIItXPVrL"
      },
      "source": [
        "import sys\n",
        "sys.path.append(\"nmt-en-tr\")\n",
        "import nmt_en_tr"
      ],
      "execution_count": 7,
      "outputs": []
    },
    {
      "cell_type": "code",
      "metadata": {
        "id": "soI2E1eJQX8h"
      },
      "source": [
        "!wget -nc -q https://github.com/yahyasungur/en2tr_tr2en_machine_translation/releases/download/latest/en2tr.zip\n",
        "!unzip -n -qq en2tr.zip"
      ],
      "execution_count": 8,
      "outputs": []
    },
    {
      "cell_type": "code",
      "metadata": {
        "id": "puTQub4yQszS"
      },
      "source": [
        "model_path = 'en2tr'\n",
        "\n",
        "data_dir = os.path.join(model_path, 'data')\n",
        "ckpt_dir = os.path.join(model_path, 'model')\n",
        "\n",
        "en2tr_problem = problems.problem(\"translate_en_tr\")\n",
        "encoders = en2tr_problem.feature_encoders(data_dir)\n",
        "\n",
        "ckpt_path = tf.train.latest_checkpoint(ckpt_dir)"
      ],
      "execution_count": 9,
      "outputs": []
    },
    {
      "cell_type": "code",
      "metadata": {
        "id": "ui-X4JrHRO7Q"
      },
      "source": [
        "def encode(input_str, output_str=None):\n",
        "  \"\"\"Input str to features dict, ready for inference\"\"\"\n",
        "  inputs = encoders[\"inputs\"].encode(input_str) + [1]  # add EOS id \n",
        "  batch_inputs = tf.reshape(inputs, [1, -1, 1])  # Make it 3D.\n",
        "  return {\"inputs\": batch_inputs}\n",
        "\n",
        "def decode(integers):\n",
        "  \"\"\"List of ints to str\"\"\"\n",
        "  integers = list(np.squeeze(integers))\n",
        "  if 1 in integers:\n",
        "    integers = integers[:integers.index(1)]\n",
        "  return encoders[\"inputs\"].decode(np.squeeze(integers))"
      ],
      "execution_count": 23,
      "outputs": []
    },
    {
      "cell_type": "code",
      "metadata": {
        "id": "zq0pY3oJRPnW"
      },
      "source": [
        "model_name = \"transformer\"\n",
        "hparams_set = \"transformer_tpu\"\n",
        "\n",
        "Modes = tf.estimator.ModeKeys\n",
        "\n",
        "hparams = trainer_lib.create_hparams(hparams_set, data_dir=data_dir, problem_name=\"translate_en_tr\")\n",
        "\n",
        "translate_model = registry.model(model_name)(hparams, Modes.EVAL)"
      ],
      "execution_count": 24,
      "outputs": []
    },
    {
      "cell_type": "code",
      "metadata": {
        "id": "o8_l_pxPRUWX"
      },
      "source": [
        "# Restore and translate!\n",
        "def translate(inputs, beam_size = 5, alpha = 0.6, **kwargs):\n",
        "  encoded_inputs = encode(inputs)\n",
        "  with tfe.restore_variables_on_create(ckpt_path):\n",
        "    model_output = translate_model.infer(encoded_inputs, **kwargs)[\"outputs\"]\n",
        "  if len(model_output.shape) == 2:\n",
        "    return decode(model_output)\n",
        "  else:\n",
        "    return [decode(x) for x in model_output[0]]\n",
        "  \n",
        "def translate_and_display(input):\n",
        "  output = translate(input)\n",
        "  print('\\n  '.join(textwrap.wrap(\"Input: {}\".format(input), 80)))\n",
        "  print()\n",
        "  print('\\n  '.join(textwrap.wrap(\"Output: {}\".format(output), 80)))"
      ],
      "execution_count": 12,
      "outputs": []
    },
    {
      "cell_type": "code",
      "metadata": {
        "colab": {
          "base_uri": "https://localhost:8080/"
        },
        "id": "tPRR38XvRZRM",
        "outputId": "44128e94-86aa-4382-ba4e-691cf9d3d797"
      },
      "source": [
        "inputs = \"shortness of breath of difficulty breathing\"\n",
        "\n",
        "translate_and_display(inputs)"
      ],
      "execution_count": 13,
      "outputs": [
        {
          "output_type": "stream",
          "name": "stdout",
          "text": [
            "Input: shortness of breath of difficulty breathing\n",
            "\n",
            "Output: Nefes almakta zorlanıyorum.\n"
          ]
        }
      ]
    },
    {
      "cell_type": "code",
      "metadata": {
        "colab": {
          "base_uri": "https://localhost:8080/"
        },
        "id": "bRwKoSXf8fiz",
        "outputId": "e4b14bd5-7171-49d6-bd68-d4516fe9a98d"
      },
      "source": [
        "translate_and_display(\"be sure that the information you give is accurate and complete\")"
      ],
      "execution_count": 14,
      "outputs": [
        {
          "output_type": "stream",
          "name": "stdout",
          "text": [
            "Input: be sure that the information you give is accurate and complete\n",
            "\n",
            "Output: Verdiğin bilgilerin doğru ve eksiksiz olduğundan emin ol.\n"
          ]
        }
      ]
    },
    {
      "cell_type": "code",
      "metadata": {
        "colab": {
          "base_uri": "https://localhost:8080/"
        },
        "id": "edxX5XlM8kWK",
        "outputId": "dca3748c-58ce-407a-a11e-7e4ed7f27522"
      },
      "source": [
        "translate_and_display(\"people you have contacted during this period\")"
      ],
      "execution_count": 21,
      "outputs": [
        {
          "output_type": "stream",
          "name": "stdout",
          "text": [
            "Input: people you have contacted during this period\n",
            "\n",
            "Output: Bu süre içinde iletişim kurduğun insanlar.\n"
          ]
        }
      ]
    },
    {
      "cell_type": "code",
      "metadata": {
        "colab": {
          "base_uri": "https://localhost:8080/"
        },
        "id": "4ODTaO7y9eO4",
        "outputId": "a8fb7d4a-bb51-4c94-9f31-fa00e2a1db45"
      },
      "source": [
        "translate_and_display(\"have you been in contact with anyone in the last 14 days who is experiencing these symptoms?\")"
      ],
      "execution_count": 22,
      "outputs": [
        {
          "output_type": "stream",
          "name": "stdout",
          "text": [
            "Input: have you been in contact with anyone in the last 14 days who is\n",
            "  experiencing these symptoms?\n",
            "\n",
            "Output: Son 14 gün bu belirtileri yaşayan biriyle temasa geçtin mi?\n"
          ]
        }
      ]
    }
  ]
}